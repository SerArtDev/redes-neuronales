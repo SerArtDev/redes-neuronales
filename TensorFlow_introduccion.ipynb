{
  "nbformat": 4,
  "nbformat_minor": 0,
  "metadata": {
    "colab": {
      "provenance": [],
      "authorship_tag": "ABX9TyOFUaQrq+N9gcBKZZ3GxV9B",
      "include_colab_link": true
    },
    "kernelspec": {
      "name": "python3",
      "display_name": "Python 3"
    },
    "language_info": {
      "name": "python"
    }
  },
  "cells": [
    {
      "cell_type": "markdown",
      "metadata": {
        "id": "view-in-github",
        "colab_type": "text"
      },
      "source": [
        "<a href=\"https://colab.research.google.com/github/SerArtDev/redes-neuronales/blob/main/TensorFlow_introduccion.ipynb\" target=\"_parent\"><img src=\"https://colab.research.google.com/assets/colab-badge.svg\" alt=\"Open In Colab\"/></a>"
      ]
    },
    {
      "cell_type": "markdown",
      "source": [
        "# TensorFlow\n",
        "Es una plataforma de código abierto para Machine Learning, desarrollada y mantenida por Google.\n",
        "\n",
        "## Características importantes\n",
        "- **Eager execution**: El modelo se ejecuta a medida que se va construyendo. En Keras se añadían capas con add y al final se compilaba con compile, pero con Eager execution no es necesario el compile y podemos ver los errores que van surgiendo.\n",
        "- **APIs de alto nivel intuitivas**: Simplifican la forma de crear y entrenar modelos. Una de estas APIs es Keras.\n",
        "- **Crossplatform deploy**: Permite lanzar proyectos a distintas plataformas, incluyendo web, dispositivos móviles y sistemas embebidos.\n",
        "- **Escalabilidad**: TensorFlow permite escalamiento con cpu y gpu.\n",
        "- **Ecosistemas**: Ofrece ecosistemas con herramientas específicas.\n",
        "\n",
        "Existen varios ecosistemas de TensorFlow que pueden ser interesantes dependiendo de la aplicación:\n",
        "\n",
        "- **TensorFlow** lite: Es una solución de bajo peso pensado para dispositivos móviles y sistemas embebidos.\n",
        "- **TensorFlow.js**: Permite ejecutar sistemas de machine learning en la web.\n",
        "- **TensorFlow Extended (TFX)**: Ofrecre una gran cantidad de herramientas para modelos grandes en producción, permitiendo monitorearlos y escalarlos.\n",
        "- **TensorFlow Hub**: Es un repositorio con módulos de machine learning reutilizables.\n",
        "- **TensorBoard**: Conjunto de herramientas para visualización.\n"
      ],
      "metadata": {
        "id": "ucz9WpymXHpD"
      }
    },
    {
      "cell_type": "code",
      "execution_count": null,
      "metadata": {
        "colab": {
          "base_uri": "https://localhost:8080/"
        },
        "id": "UucngAjfWqxP",
        "outputId": "155a25cb-35f4-43ff-985d-043f1cdd4f0d"
      },
      "outputs": [
        {
          "output_type": "stream",
          "name": "stdout",
          "text": [
            "tf.Tensor(\n",
            "[[19. 22.]\n",
            " [43. 50.]], shape=(2, 2), dtype=float32)\n"
          ]
        }
      ],
      "source": [
        "import tensorflow as tf\n",
        "\n",
        "# Definimos dos tensores\n",
        "a = tf.constant([[1.0, 2.0], [3.0, 4.0]])\n",
        "b = tf.constant([[5.0, 6.0], [7.0, 8.0]])\n",
        "\n",
        "# Realizamos una operación y el resultado se imprime inmediatamente\n",
        "c = tf.matmul(a, b)\n",
        "print(c)"
      ]
    },
    {
      "cell_type": "code",
      "source": [],
      "metadata": {
        "id": "aPt-GUBjYT6I"
      },
      "execution_count": null,
      "outputs": []
    }
  ]
}